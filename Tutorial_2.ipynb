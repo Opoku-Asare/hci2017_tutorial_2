{
 "cells": [
  {
   "cell_type": "markdown",
   "metadata": {},
   "source": [
    "## 1. Data frame"
   ]
  },
  {
   "cell_type": "markdown",
   "metadata": {},
   "source": [
    "* A data structure in R\n",
    "* Same as good old table with rows and columns\n",
    "* Each column has a header with a name"
   ]
  },
  {
   "cell_type": "markdown",
   "metadata": {},
   "source": [
    "### Reading data"
   ]
  },
  {
   "cell_type": "code",
   "execution_count": null,
   "metadata": {
    "collapsed": true
   },
   "outputs": [],
   "source": [
    "setwd(\".\")"
   ]
  },
  {
   "cell_type": "code",
   "execution_count": null,
   "metadata": {
    "collapsed": true
   },
   "outputs": [],
   "source": [
    "#let's read same data from HW 1\n",
    "# data.csv is just an example. It could be anything\n",
    "\n",
    "data<-read.csv(\"data.csv\") "
   ]
  },
  {
   "cell_type": "code",
   "execution_count": null,
   "metadata": {},
   "outputs": [],
   "source": [
    "head(data,20)"
   ]
  },
  {
   "cell_type": "markdown",
   "metadata": {},
   "source": [
    "### Subsetting data"
   ]
  },
  {
   "cell_type": "markdown",
   "metadata": {},
   "source": [
    "#### Need some help? Google it first. Or, type ?name_of_function"
   ]
  },
  {
   "cell_type": "code",
   "execution_count": null,
   "metadata": {
    "collapsed": true
   },
   "outputs": [],
   "source": [
    "?subset"
   ]
  },
  {
   "cell_type": "code",
   "execution_count": null,
   "metadata": {
    "collapsed": true
   },
   "outputs": [],
   "source": [
    "numeric_columns<-c(\"Q1\",\"Q2\",\"Q3\",\"Q4\",\"Q5\",\"Q6\",\"Q7\",\"Q8\",\"Q9\",\"Q10\")\n",
    "int_students=subset(data,finnish==\"no\",select=numeric_columns)"
   ]
  },
  {
   "cell_type": "markdown",
   "metadata": {},
   "source": [
    "#### or"
   ]
  },
  {
   "cell_type": "code",
   "execution_count": null,
   "metadata": {
    "collapsed": true
   },
   "outputs": [],
   "source": [
    "int_students=subset(data,finnish==\"no\",select=c(1:10))"
   ]
  },
  {
   "cell_type": "markdown",
   "metadata": {},
   "source": [
    "#### or "
   ]
  },
  {
   "cell_type": "code",
   "execution_count": null,
   "metadata": {
    "collapsed": true
   },
   "outputs": [],
   "source": [
    "int_students=subset(data,finnish==\"no\",select=c(Q1,Q2,Q3,Q4,Q5,Q6,Q7,Q8,Q9,Q10))"
   ]
  },
  {
   "cell_type": "markdown",
   "metadata": {},
   "source": [
    "#### yet another way"
   ]
  },
  {
   "cell_type": "code",
   "execution_count": null,
   "metadata": {
    "collapsed": true
   },
   "outputs": [],
   "source": [
    "int_students=data[data$finnish==\"no\",1:10]"
   ]
  },
  {
   "cell_type": "code",
   "execution_count": null,
   "metadata": {},
   "outputs": [],
   "source": [
    "int_students"
   ]
  },
  {
   "cell_type": "code",
   "execution_count": null,
   "metadata": {
    "collapsed": true
   },
   "outputs": [],
   "source": []
  },
  {
   "cell_type": "markdown",
   "metadata": {},
   "source": [
    "### Some statistics"
   ]
  },
  {
   "cell_type": "code",
   "execution_count": null,
   "metadata": {},
   "outputs": [],
   "source": [
    "correlation_between_Q1_Q2=cor(int_students$Q1,int_students$Q2)\n",
    "correlation_between_Q1_Q2"
   ]
  },
  {
   "cell_type": "code",
   "execution_count": null,
   "metadata": {},
   "outputs": [],
   "source": [
    "mean_Q6=mean(int_students$Q1)\n",
    "mean_Q6"
   ]
  },
  {
   "cell_type": "markdown",
   "metadata": {},
   "source": [
    "# 2. Functions"
   ]
  },
  {
   "cell_type": "markdown",
   "metadata": {},
   "source": [
    "Functions are the building blocks of R, just like in any other language \n",
    "\n",
    "A function is written as follows: \n",
    "\n",
    "      myfunction <- function(arg1, arg2, ... ){\n",
    "            statements\n",
    "            return(object)\n",
    "      } \n",
    "\n",
    "A function in R is called as:\n",
    "\n",
    "**myfunction(args)**\n",
    "\n",
    "Let's implement some functions\n",
    "* Standard Deviation \n",
    "* Frequency Table\n",
    "* Function that uses factors\n",
    "* Function to merge two data frames"
   ]
  },
  {
   "cell_type": "markdown",
   "metadata": {},
   "source": [
    "### Standard deviation  "
   ]
  },
  {
   "cell_type": "code",
   "execution_count": null,
   "metadata": {
    "collapsed": true
   },
   "outputs": [],
   "source": [
    "standard_deviation <- function(sample){\n",
    "    xbar<-mean(sample)\n",
    "    sumXminusXbar_sqrd=0\n",
    "    for(x in  sample){\n",
    "        diff_from_mean=x-xbar\n",
    "        sumXminusXbar_sqrd=sumXminusXbar_sqrd+(diff_from_mean*diff_from_mean)\n",
    "    }\n",
    "    denominator=length(sample)-1\n",
    "    return(sqrt(sumXminusXbar_sqrd/denominator))\n",
    "}"
   ]
  },
  {
   "cell_type": "markdown",
   "metadata": {},
   "source": [
    "#### Let's test the function using all the data"
   ]
  },
  {
   "cell_type": "code",
   "execution_count": null,
   "metadata": {},
   "outputs": [],
   "source": [
    "# Standard Deviation of Q1 responses\n",
    "sd<-standard_deviation(data$Q1)\n",
    "sd"
   ]
  },
  {
   "cell_type": "markdown",
   "metadata": {},
   "source": [
    "#### Let's validate our function with R's built in function for standard deviation: sd()"
   ]
  },
  {
   "cell_type": "code",
   "execution_count": null,
   "metadata": {
    "scrolled": true
   },
   "outputs": [],
   "source": [
    "sd(data$Q1)"
   ]
  },
  {
   "cell_type": "markdown",
   "metadata": {},
   "source": [
    "### Frequency table"
   ]
  },
  {
   "cell_type": "code",
   "execution_count": null,
   "metadata": {
    "collapsed": true
   },
   "outputs": [],
   "source": [
    "frequency_table <- function(dataframe){\n",
    "    res <- NULL\n",
    "    \n",
    "    for(columnName in names(dataframe)){\n",
    "        \n",
    "        sample<-dataframe[,c(columnName)]\n",
    "        xbar<-mean(sample)\n",
    "        \n",
    "        #using our own defined started deviation\n",
    "        sd<-standard_deviation(sample)\n",
    "        count<-length(sample)\n",
    "        \n",
    "        res <- rbind(res,c(columnName,count,xbar,sd))\n",
    "        \n",
    "    }\n",
    "    colnames(res) <- c(\"response_for\",\"count\",\"mean\",\"standard_deviation\")\n",
    "    res<-data.frame(res)\n",
    "    return(res)\n",
    "\n",
    "}"
   ]
  },
  {
   "cell_type": "markdown",
   "metadata": {},
   "source": [
    "What do the **names**, **rbind**, **colnames** functions do??"
   ]
  },
  {
   "cell_type": "markdown",
   "metadata": {},
   "source": [
    "#### Now let's test our function"
   ]
  },
  {
   "cell_type": "code",
   "execution_count": null,
   "metadata": {
    "collapsed": true
   },
   "outputs": [],
   "source": [
    "# subsetting column 1 to 10 of the data \n",
    "#   - you may have used subset() before, this is just another way\n",
    "\n",
    "all_questions=data[,1:10]"
   ]
  },
  {
   "cell_type": "code",
   "execution_count": null,
   "metadata": {},
   "outputs": [],
   "source": [
    "freq_table<-frequency_table(all_questions)\n",
    "freq_table"
   ]
  },
  {
   "cell_type": "code",
   "execution_count": null,
   "metadata": {
    "collapsed": true
   },
   "outputs": [],
   "source": []
  },
  {
   "cell_type": "markdown",
   "metadata": {},
   "source": [
    "### Function that uses factors"
   ]
  },
  {
   "cell_type": "markdown",
   "metadata": {},
   "source": [
    "Let's look at the data again"
   ]
  },
  {
   "cell_type": "code",
   "execution_count": null,
   "metadata": {},
   "outputs": [],
   "source": [
    "data"
   ]
  },
  {
   "cell_type": "code",
   "execution_count": null,
   "metadata": {},
   "outputs": [],
   "source": [
    "levels(data$website) \n",
    "factor(data$website)"
   ]
  },
  {
   "cell_type": "code",
   "execution_count": null,
   "metadata": {
    "collapsed": true
   },
   "outputs": [],
   "source": [
    "library(\"hcitools\")\n",
    "news_score<-function(d){\n",
    "    res <- NULL\n",
    "    for (news_firm in levels(d$website)){ \n",
    "        for (gender in levels(d$gender)){\n",
    "            \n",
    "            subset<-d[d$website==news_firm&d$gender==gender,1:10]\n",
    "            result=questionnaire.analyse(subset, name=\"SUS\")\n",
    "            res <- rbind(res,c(news_firm,gender,result))\n",
    "        }\n",
    "    }\n",
    "    colnames(res) <- c(\"Website\",\"Gender\",\"Sus_score\")\n",
    "    res<-data.frame(res)\n",
    "    return(res)\n",
    "}"
   ]
  },
  {
   "cell_type": "code",
   "execution_count": null,
   "metadata": {},
   "outputs": [],
   "source": [
    "news_score(data)"
   ]
  },
  {
   "cell_type": "code",
   "execution_count": null,
   "metadata": {
    "collapsed": true
   },
   "outputs": [],
   "source": [
    "?rnorm\n",
    "\n"
   ]
  },
  {
   "cell_type": "markdown",
   "metadata": {},
   "source": [
    "### Function to merge two data frames\n",
    "\n",
    "#### let's write a function to generate a dataframe with 10 rows\n",
    "* x column is a sequence from 1 to 10\n",
    "* y column is a randomly generated sequence with mean=0 and standard deviation=1\n"
   ]
  },
  {
   "cell_type": "code",
   "execution_count": null,
   "metadata": {
    "collapsed": true
   },
   "outputs": [],
   "source": [
    "generate_data<-function(){\n",
    "    x<-seq(from=1,to=10)\n",
    "    y<-rnorm(10,mean=0,sd=1)\n",
    "    xy<-cbind(x,y)\n",
    "    #asMatrix<-as.data.frame(xy)\n",
    "    colnames(xy)<-c(\"x\",\"y\")\n",
    "    return(data.frame(xy))\n",
    "}"
   ]
  },
  {
   "cell_type": "code",
   "execution_count": null,
   "metadata": {},
   "outputs": [],
   "source": [
    "gen_data1<-generate_data()\n",
    "gen_data1\n",
    "\n",
    "gen_data2<-generate_data()\n",
    "gen_data2"
   ]
  },
  {
   "cell_type": "code",
   "execution_count": null,
   "metadata": {
    "collapsed": true
   },
   "outputs": [],
   "source": []
  },
  {
   "cell_type": "markdown",
   "metadata": {},
   "source": [
    "#### rbind finally does the trick of merging the two data frames into one (\"Row Bind\" = rbind. It binds the rows of two data sets)."
   ]
  },
  {
   "cell_type": "code",
   "execution_count": null,
   "metadata": {
    "collapsed": true
   },
   "outputs": [],
   "source": [
    "merged_data<-rbind(gen_data1,gen_data2)"
   ]
  },
  {
   "cell_type": "code",
   "execution_count": null,
   "metadata": {},
   "outputs": [],
   "source": [
    "merged_data"
   ]
  },
  {
   "cell_type": "code",
   "execution_count": null,
   "metadata": {
    "collapsed": true
   },
   "outputs": [],
   "source": []
  }
 ],
 "metadata": {
  "kernelspec": {
   "display_name": "R",
   "language": "R",
   "name": "ir"
  },
  "language_info": {
   "codemirror_mode": "r",
   "file_extension": ".r",
   "mimetype": "text/x-r-source",
   "name": "R",
   "pygments_lexer": "r",
   "version": "3.4.1"
  }
 },
 "nbformat": 4,
 "nbformat_minor": 2
}
