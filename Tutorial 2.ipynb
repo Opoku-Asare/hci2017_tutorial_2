{
 "cells": [
  {
   "cell_type": "markdown",
   "metadata": {},
   "source": [
    "## 1. Data frame"
   ]
  },
  {
   "cell_type": "markdown",
   "metadata": {},
   "source": [
    "* A data structure in R\n",
    "* Same as good old table with rows and columns\n",
    "* Each column has a header with a name"
   ]
  },
  {
   "cell_type": "markdown",
   "metadata": {},
   "source": [
    "### Reading data"
   ]
  },
  {
   "cell_type": "code",
   "execution_count": 1,
   "metadata": {
    "collapsed": true
   },
   "outputs": [],
   "source": [
    "setwd(\".\")"
   ]
  },
  {
   "cell_type": "code",
   "execution_count": 2,
   "metadata": {
    "collapsed": true
   },
   "outputs": [],
   "source": [
    "#let's read same data from exervice 1\n",
    "\n",
    "data<-read.csv(\"data.csv\") "
   ]
  },
  {
   "cell_type": "code",
   "execution_count": 3,
   "metadata": {},
   "outputs": [
    {
     "data": {
      "text/html": [
       "<table>\n",
       "<thead><tr><th scope=col>Q1</th><th scope=col>Q2</th><th scope=col>Q3</th><th scope=col>Q4</th><th scope=col>Q5</th><th scope=col>Q6</th><th scope=col>Q7</th><th scope=col>Q8</th><th scope=col>Q9</th><th scope=col>Q10</th><th scope=col>gender</th><th scope=col>finnish</th><th scope=col>website</th></tr></thead>\n",
       "<tbody>\n",
       "\t<tr><td>2     </td><td>1     </td><td>5     </td><td>1     </td><td>2     </td><td>2     </td><td>1     </td><td>5     </td><td>3     </td><td>4     </td><td>male  </td><td>no    </td><td>BBC   </td></tr>\n",
       "\t<tr><td>4     </td><td>2     </td><td>4     </td><td>5     </td><td>1     </td><td>5     </td><td>1     </td><td>5     </td><td>5     </td><td>5     </td><td>male  </td><td>yes   </td><td>BBC   </td></tr>\n",
       "\t<tr><td>1     </td><td>5     </td><td>3     </td><td>1     </td><td>2     </td><td>4     </td><td>3     </td><td>2     </td><td>3     </td><td>3     </td><td>male  </td><td>no    </td><td>CNN   </td></tr>\n",
       "\t<tr><td>2     </td><td>1     </td><td>2     </td><td>2     </td><td>1     </td><td>3     </td><td>2     </td><td>2     </td><td>1     </td><td>4     </td><td>female</td><td>no    </td><td>BBC   </td></tr>\n",
       "\t<tr><td>3     </td><td>1     </td><td>1     </td><td>5     </td><td>3     </td><td>3     </td><td>3     </td><td>2     </td><td>1     </td><td>4     </td><td>female</td><td>no    </td><td>CNN   </td></tr>\n",
       "\t<tr><td>2     </td><td>5     </td><td>2     </td><td>3     </td><td>2     </td><td>5     </td><td>5     </td><td>4     </td><td>3     </td><td>1     </td><td>female</td><td>yes   </td><td>BBC   </td></tr>\n",
       "\t<tr><td>1     </td><td>5     </td><td>1     </td><td>5     </td><td>3     </td><td>2     </td><td>4     </td><td>2     </td><td>5     </td><td>3     </td><td>male  </td><td>no    </td><td>BBC   </td></tr>\n",
       "\t<tr><td>2     </td><td>1     </td><td>5     </td><td>4     </td><td>1     </td><td>2     </td><td>2     </td><td>3     </td><td>5     </td><td>3     </td><td>male  </td><td>yes   </td><td>CNN   </td></tr>\n",
       "\t<tr><td>2     </td><td>5     </td><td>4     </td><td>2     </td><td>2     </td><td>1     </td><td>4     </td><td>4     </td><td>3     </td><td>3     </td><td>male  </td><td>no    </td><td>CNN   </td></tr>\n",
       "\t<tr><td>1     </td><td>5     </td><td>1     </td><td>5     </td><td>3     </td><td>2     </td><td>4     </td><td>2     </td><td>5     </td><td>3     </td><td>male  </td><td>no    </td><td>CNN   </td></tr>\n",
       "\t<tr><td>3     </td><td>2     </td><td>3     </td><td>5     </td><td>1     </td><td>5     </td><td>4     </td><td>5     </td><td>5     </td><td>5     </td><td>female</td><td>no    </td><td>BBC   </td></tr>\n",
       "\t<tr><td>1     </td><td>3     </td><td>2     </td><td>5     </td><td>4     </td><td>1     </td><td>4     </td><td>1     </td><td>5     </td><td>2     </td><td>female</td><td>no    </td><td>CNN   </td></tr>\n",
       "\t<tr><td>1     </td><td>1     </td><td>4     </td><td>5     </td><td>5     </td><td>4     </td><td>2     </td><td>5     </td><td>2     </td><td>1     </td><td>male  </td><td>no    </td><td>CNN   </td></tr>\n",
       "\t<tr><td>4     </td><td>2     </td><td>5     </td><td>1     </td><td>4     </td><td>2     </td><td>5     </td><td>4     </td><td>4     </td><td>5     </td><td>female</td><td>yes   </td><td>CNN   </td></tr>\n",
       "\t<tr><td>1     </td><td>5     </td><td>3     </td><td>1     </td><td>2     </td><td>4     </td><td>3     </td><td>2     </td><td>3     </td><td>3     </td><td>male  </td><td>yes   </td><td>BBC   </td></tr>\n",
       "\t<tr><td>3     </td><td>3     </td><td>4     </td><td>3     </td><td>2     </td><td>3     </td><td>3     </td><td>4     </td><td>4     </td><td>2     </td><td>male  </td><td>yes   </td><td>BBC   </td></tr>\n",
       "\t<tr><td>2     </td><td>2     </td><td>1     </td><td>4     </td><td>4     </td><td>1     </td><td>3     </td><td>4     </td><td>1     </td><td>5     </td><td>female</td><td>yes   </td><td>CNN   </td></tr>\n",
       "\t<tr><td>4     </td><td>2     </td><td>5     </td><td>1     </td><td>4     </td><td>2     </td><td>5     </td><td>4     </td><td>4     </td><td>5     </td><td>female</td><td>yes   </td><td>BBC   </td></tr>\n",
       "\t<tr><td>2     </td><td>5     </td><td>1     </td><td>3     </td><td>5     </td><td>1     </td><td>4     </td><td>5     </td><td>2     </td><td>4     </td><td>male  </td><td>yes   </td><td>BBC   </td></tr>\n",
       "\t<tr><td>3     </td><td>4     </td><td>3     </td><td>1     </td><td>1     </td><td>2     </td><td>5     </td><td>4     </td><td>5     </td><td>1     </td><td>female</td><td>no    </td><td>BBC   </td></tr>\n",
       "</tbody>\n",
       "</table>\n"
      ],
      "text/latex": [
       "\\begin{tabular}{r|lllllllllllll}\n",
       " Q1 & Q2 & Q3 & Q4 & Q5 & Q6 & Q7 & Q8 & Q9 & Q10 & gender & finnish & website\\\\\n",
       "\\hline\n",
       "\t 2      & 1      & 5      & 1      & 2      & 2      & 1      & 5      & 3      & 4      & male   & no     & BBC   \\\\\n",
       "\t 4      & 2      & 4      & 5      & 1      & 5      & 1      & 5      & 5      & 5      & male   & yes    & BBC   \\\\\n",
       "\t 1      & 5      & 3      & 1      & 2      & 4      & 3      & 2      & 3      & 3      & male   & no     & CNN   \\\\\n",
       "\t 2      & 1      & 2      & 2      & 1      & 3      & 2      & 2      & 1      & 4      & female & no     & BBC   \\\\\n",
       "\t 3      & 1      & 1      & 5      & 3      & 3      & 3      & 2      & 1      & 4      & female & no     & CNN   \\\\\n",
       "\t 2      & 5      & 2      & 3      & 2      & 5      & 5      & 4      & 3      & 1      & female & yes    & BBC   \\\\\n",
       "\t 1      & 5      & 1      & 5      & 3      & 2      & 4      & 2      & 5      & 3      & male   & no     & BBC   \\\\\n",
       "\t 2      & 1      & 5      & 4      & 1      & 2      & 2      & 3      & 5      & 3      & male   & yes    & CNN   \\\\\n",
       "\t 2      & 5      & 4      & 2      & 2      & 1      & 4      & 4      & 3      & 3      & male   & no     & CNN   \\\\\n",
       "\t 1      & 5      & 1      & 5      & 3      & 2      & 4      & 2      & 5      & 3      & male   & no     & CNN   \\\\\n",
       "\t 3      & 2      & 3      & 5      & 1      & 5      & 4      & 5      & 5      & 5      & female & no     & BBC   \\\\\n",
       "\t 1      & 3      & 2      & 5      & 4      & 1      & 4      & 1      & 5      & 2      & female & no     & CNN   \\\\\n",
       "\t 1      & 1      & 4      & 5      & 5      & 4      & 2      & 5      & 2      & 1      & male   & no     & CNN   \\\\\n",
       "\t 4      & 2      & 5      & 1      & 4      & 2      & 5      & 4      & 4      & 5      & female & yes    & CNN   \\\\\n",
       "\t 1      & 5      & 3      & 1      & 2      & 4      & 3      & 2      & 3      & 3      & male   & yes    & BBC   \\\\\n",
       "\t 3      & 3      & 4      & 3      & 2      & 3      & 3      & 4      & 4      & 2      & male   & yes    & BBC   \\\\\n",
       "\t 2      & 2      & 1      & 4      & 4      & 1      & 3      & 4      & 1      & 5      & female & yes    & CNN   \\\\\n",
       "\t 4      & 2      & 5      & 1      & 4      & 2      & 5      & 4      & 4      & 5      & female & yes    & BBC   \\\\\n",
       "\t 2      & 5      & 1      & 3      & 5      & 1      & 4      & 5      & 2      & 4      & male   & yes    & BBC   \\\\\n",
       "\t 3      & 4      & 3      & 1      & 1      & 2      & 5      & 4      & 5      & 1      & female & no     & BBC   \\\\\n",
       "\\end{tabular}\n"
      ],
      "text/markdown": [
       "\n",
       "Q1 | Q2 | Q3 | Q4 | Q5 | Q6 | Q7 | Q8 | Q9 | Q10 | gender | finnish | website | \n",
       "|---|---|---|---|---|---|---|---|---|---|---|---|---|---|---|---|---|---|---|---|\n",
       "| 2      | 1      | 5      | 1      | 2      | 2      | 1      | 5      | 3      | 4      | male   | no     | BBC    | \n",
       "| 4      | 2      | 4      | 5      | 1      | 5      | 1      | 5      | 5      | 5      | male   | yes    | BBC    | \n",
       "| 1      | 5      | 3      | 1      | 2      | 4      | 3      | 2      | 3      | 3      | male   | no     | CNN    | \n",
       "| 2      | 1      | 2      | 2      | 1      | 3      | 2      | 2      | 1      | 4      | female | no     | BBC    | \n",
       "| 3      | 1      | 1      | 5      | 3      | 3      | 3      | 2      | 1      | 4      | female | no     | CNN    | \n",
       "| 2      | 5      | 2      | 3      | 2      | 5      | 5      | 4      | 3      | 1      | female | yes    | BBC    | \n",
       "| 1      | 5      | 1      | 5      | 3      | 2      | 4      | 2      | 5      | 3      | male   | no     | BBC    | \n",
       "| 2      | 1      | 5      | 4      | 1      | 2      | 2      | 3      | 5      | 3      | male   | yes    | CNN    | \n",
       "| 2      | 5      | 4      | 2      | 2      | 1      | 4      | 4      | 3      | 3      | male   | no     | CNN    | \n",
       "| 1      | 5      | 1      | 5      | 3      | 2      | 4      | 2      | 5      | 3      | male   | no     | CNN    | \n",
       "| 3      | 2      | 3      | 5      | 1      | 5      | 4      | 5      | 5      | 5      | female | no     | BBC    | \n",
       "| 1      | 3      | 2      | 5      | 4      | 1      | 4      | 1      | 5      | 2      | female | no     | CNN    | \n",
       "| 1      | 1      | 4      | 5      | 5      | 4      | 2      | 5      | 2      | 1      | male   | no     | CNN    | \n",
       "| 4      | 2      | 5      | 1      | 4      | 2      | 5      | 4      | 4      | 5      | female | yes    | CNN    | \n",
       "| 1      | 5      | 3      | 1      | 2      | 4      | 3      | 2      | 3      | 3      | male   | yes    | BBC    | \n",
       "| 3      | 3      | 4      | 3      | 2      | 3      | 3      | 4      | 4      | 2      | male   | yes    | BBC    | \n",
       "| 2      | 2      | 1      | 4      | 4      | 1      | 3      | 4      | 1      | 5      | female | yes    | CNN    | \n",
       "| 4      | 2      | 5      | 1      | 4      | 2      | 5      | 4      | 4      | 5      | female | yes    | BBC    | \n",
       "| 2      | 5      | 1      | 3      | 5      | 1      | 4      | 5      | 2      | 4      | male   | yes    | BBC    | \n",
       "| 3      | 4      | 3      | 1      | 1      | 2      | 5      | 4      | 5      | 1      | female | no     | BBC    | \n",
       "\n",
       "\n"
      ],
      "text/plain": [
       "   Q1 Q2 Q3 Q4 Q5 Q6 Q7 Q8 Q9 Q10 gender finnish website\n",
       "1  2  1  5  1  2  2  1  5  3  4   male   no      BBC    \n",
       "2  4  2  4  5  1  5  1  5  5  5   male   yes     BBC    \n",
       "3  1  5  3  1  2  4  3  2  3  3   male   no      CNN    \n",
       "4  2  1  2  2  1  3  2  2  1  4   female no      BBC    \n",
       "5  3  1  1  5  3  3  3  2  1  4   female no      CNN    \n",
       "6  2  5  2  3  2  5  5  4  3  1   female yes     BBC    \n",
       "7  1  5  1  5  3  2  4  2  5  3   male   no      BBC    \n",
       "8  2  1  5  4  1  2  2  3  5  3   male   yes     CNN    \n",
       "9  2  5  4  2  2  1  4  4  3  3   male   no      CNN    \n",
       "10 1  5  1  5  3  2  4  2  5  3   male   no      CNN    \n",
       "11 3  2  3  5  1  5  4  5  5  5   female no      BBC    \n",
       "12 1  3  2  5  4  1  4  1  5  2   female no      CNN    \n",
       "13 1  1  4  5  5  4  2  5  2  1   male   no      CNN    \n",
       "14 4  2  5  1  4  2  5  4  4  5   female yes     CNN    \n",
       "15 1  5  3  1  2  4  3  2  3  3   male   yes     BBC    \n",
       "16 3  3  4  3  2  3  3  4  4  2   male   yes     BBC    \n",
       "17 2  2  1  4  4  1  3  4  1  5   female yes     CNN    \n",
       "18 4  2  5  1  4  2  5  4  4  5   female yes     BBC    \n",
       "19 2  5  1  3  5  1  4  5  2  4   male   yes     BBC    \n",
       "20 3  4  3  1  1  2  5  4  5  1   female no      BBC    "
      ]
     },
     "metadata": {},
     "output_type": "display_data"
    }
   ],
   "source": [
    "head(data,20)"
   ]
  },
  {
   "cell_type": "markdown",
   "metadata": {},
   "source": [
    "### Subsetting data"
   ]
  },
  {
   "cell_type": "markdown",
   "metadata": {},
   "source": [
    "#### Need some help? google it.  Or type ?Name_of_Function"
   ]
  },
  {
   "cell_type": "code",
   "execution_count": 4,
   "metadata": {
    "collapsed": true
   },
   "outputs": [],
   "source": [
    "?subset"
   ]
  },
  {
   "cell_type": "code",
   "execution_count": 5,
   "metadata": {},
   "outputs": [],
   "source": [
    "numeric_columns<-c(\"Q1\",\"Q2\",\"Q3\",\"Q4\",\"Q5\",\"Q6\",\"Q7\",\"Q8\",\"Q9\",\"Q10\")\n",
    "int_students=subset(data,finnish==\"no\",select=numeric_columns)"
   ]
  },
  {
   "cell_type": "markdown",
   "metadata": {},
   "source": [
    "#### or"
   ]
  },
  {
   "cell_type": "code",
   "execution_count": 6,
   "metadata": {
    "collapsed": true
   },
   "outputs": [],
   "source": [
    "int_students=subset(data,finnish==\"no\",select=c(1:10))"
   ]
  },
  {
   "cell_type": "markdown",
   "metadata": {},
   "source": [
    "#### or "
   ]
  },
  {
   "cell_type": "code",
   "execution_count": 7,
   "metadata": {
    "collapsed": true
   },
   "outputs": [],
   "source": [
    "int_students=subset(data,finnish==\"no\",select=c(Q1,Q2,Q3,Q4,Q5,Q6,Q7,Q8,Q9,Q10))"
   ]
  },
  {
   "cell_type": "markdown",
   "metadata": {},
   "source": [
    "#### yet another way"
   ]
  },
  {
   "cell_type": "code",
   "execution_count": 8,
   "metadata": {},
   "outputs": [],
   "source": [
    "int_students=data[data$finnish==\"no\",1:10]"
   ]
  },
  {
   "cell_type": "code",
   "execution_count": 9,
   "metadata": {},
   "outputs": [
    {
     "data": {
      "text/html": [
       "<table>\n",
       "<thead><tr><th></th><th scope=col>Q1</th><th scope=col>Q2</th><th scope=col>Q3</th><th scope=col>Q4</th><th scope=col>Q5</th><th scope=col>Q6</th><th scope=col>Q7</th><th scope=col>Q8</th><th scope=col>Q9</th><th scope=col>Q10</th></tr></thead>\n",
       "<tbody>\n",
       "\t<tr><th scope=row>1</th><td>2</td><td>1</td><td>5</td><td>1</td><td>2</td><td>2</td><td>1</td><td>5</td><td>3</td><td>4</td></tr>\n",
       "\t<tr><th scope=row>3</th><td>1</td><td>5</td><td>3</td><td>1</td><td>2</td><td>4</td><td>3</td><td>2</td><td>3</td><td>3</td></tr>\n",
       "\t<tr><th scope=row>4</th><td>2</td><td>1</td><td>2</td><td>2</td><td>1</td><td>3</td><td>2</td><td>2</td><td>1</td><td>4</td></tr>\n",
       "\t<tr><th scope=row>5</th><td>3</td><td>1</td><td>1</td><td>5</td><td>3</td><td>3</td><td>3</td><td>2</td><td>1</td><td>4</td></tr>\n",
       "\t<tr><th scope=row>7</th><td>1</td><td>5</td><td>1</td><td>5</td><td>3</td><td>2</td><td>4</td><td>2</td><td>5</td><td>3</td></tr>\n",
       "\t<tr><th scope=row>9</th><td>2</td><td>5</td><td>4</td><td>2</td><td>2</td><td>1</td><td>4</td><td>4</td><td>3</td><td>3</td></tr>\n",
       "\t<tr><th scope=row>10</th><td>1</td><td>5</td><td>1</td><td>5</td><td>3</td><td>2</td><td>4</td><td>2</td><td>5</td><td>3</td></tr>\n",
       "\t<tr><th scope=row>11</th><td>3</td><td>2</td><td>3</td><td>5</td><td>1</td><td>5</td><td>4</td><td>5</td><td>5</td><td>5</td></tr>\n",
       "\t<tr><th scope=row>12</th><td>1</td><td>3</td><td>2</td><td>5</td><td>4</td><td>1</td><td>4</td><td>1</td><td>5</td><td>2</td></tr>\n",
       "\t<tr><th scope=row>13</th><td>1</td><td>1</td><td>4</td><td>5</td><td>5</td><td>4</td><td>2</td><td>5</td><td>2</td><td>1</td></tr>\n",
       "\t<tr><th scope=row>20</th><td>3</td><td>4</td><td>3</td><td>1</td><td>1</td><td>2</td><td>5</td><td>4</td><td>5</td><td>1</td></tr>\n",
       "\t<tr><th scope=row>27</th><td>1</td><td>4</td><td>4</td><td>5</td><td>2</td><td>5</td><td>4</td><td>2</td><td>1</td><td>1</td></tr>\n",
       "\t<tr><th scope=row>28</th><td>1</td><td>4</td><td>4</td><td>5</td><td>2</td><td>5</td><td>4</td><td>2</td><td>1</td><td>1</td></tr>\n",
       "\t<tr><th scope=row>29</th><td>3</td><td>2</td><td>3</td><td>4</td><td>1</td><td>2</td><td>5</td><td>1</td><td>3</td><td>3</td></tr>\n",
       "\t<tr><th scope=row>30</th><td>2</td><td>5</td><td>4</td><td>2</td><td>2</td><td>1</td><td>4</td><td>4</td><td>3</td><td>3</td></tr>\n",
       "\t<tr><th scope=row>38</th><td>3</td><td>2</td><td>3</td><td>5</td><td>1</td><td>5</td><td>4</td><td>5</td><td>5</td><td>5</td></tr>\n",
       "\t<tr><th scope=row>40</th><td>3</td><td>3</td><td>4</td><td>3</td><td>2</td><td>3</td><td>3</td><td>4</td><td>4</td><td>2</td></tr>\n",
       "\t<tr><th scope=row>41</th><td>1</td><td>3</td><td>2</td><td>5</td><td>4</td><td>1</td><td>4</td><td>1</td><td>5</td><td>2</td></tr>\n",
       "\t<tr><th scope=row>43</th><td>3</td><td>2</td><td>2</td><td>3</td><td>2</td><td>2</td><td>2</td><td>1</td><td>1</td><td>4</td></tr>\n",
       "\t<tr><th scope=row>44</th><td>1</td><td>1</td><td>4</td><td>5</td><td>5</td><td>4</td><td>2</td><td>5</td><td>2</td><td>1</td></tr>\n",
       "</tbody>\n",
       "</table>\n"
      ],
      "text/latex": [
       "\\begin{tabular}{r|llllllllll}\n",
       "  & Q1 & Q2 & Q3 & Q4 & Q5 & Q6 & Q7 & Q8 & Q9 & Q10\\\\\n",
       "\\hline\n",
       "\t1 & 2 & 1 & 5 & 1 & 2 & 2 & 1 & 5 & 3 & 4\\\\\n",
       "\t3 & 1 & 5 & 3 & 1 & 2 & 4 & 3 & 2 & 3 & 3\\\\\n",
       "\t4 & 2 & 1 & 2 & 2 & 1 & 3 & 2 & 2 & 1 & 4\\\\\n",
       "\t5 & 3 & 1 & 1 & 5 & 3 & 3 & 3 & 2 & 1 & 4\\\\\n",
       "\t7 & 1 & 5 & 1 & 5 & 3 & 2 & 4 & 2 & 5 & 3\\\\\n",
       "\t9 & 2 & 5 & 4 & 2 & 2 & 1 & 4 & 4 & 3 & 3\\\\\n",
       "\t10 & 1 & 5 & 1 & 5 & 3 & 2 & 4 & 2 & 5 & 3\\\\\n",
       "\t11 & 3 & 2 & 3 & 5 & 1 & 5 & 4 & 5 & 5 & 5\\\\\n",
       "\t12 & 1 & 3 & 2 & 5 & 4 & 1 & 4 & 1 & 5 & 2\\\\\n",
       "\t13 & 1 & 1 & 4 & 5 & 5 & 4 & 2 & 5 & 2 & 1\\\\\n",
       "\t20 & 3 & 4 & 3 & 1 & 1 & 2 & 5 & 4 & 5 & 1\\\\\n",
       "\t27 & 1 & 4 & 4 & 5 & 2 & 5 & 4 & 2 & 1 & 1\\\\\n",
       "\t28 & 1 & 4 & 4 & 5 & 2 & 5 & 4 & 2 & 1 & 1\\\\\n",
       "\t29 & 3 & 2 & 3 & 4 & 1 & 2 & 5 & 1 & 3 & 3\\\\\n",
       "\t30 & 2 & 5 & 4 & 2 & 2 & 1 & 4 & 4 & 3 & 3\\\\\n",
       "\t38 & 3 & 2 & 3 & 5 & 1 & 5 & 4 & 5 & 5 & 5\\\\\n",
       "\t40 & 3 & 3 & 4 & 3 & 2 & 3 & 3 & 4 & 4 & 2\\\\\n",
       "\t41 & 1 & 3 & 2 & 5 & 4 & 1 & 4 & 1 & 5 & 2\\\\\n",
       "\t43 & 3 & 2 & 2 & 3 & 2 & 2 & 2 & 1 & 1 & 4\\\\\n",
       "\t44 & 1 & 1 & 4 & 5 & 5 & 4 & 2 & 5 & 2 & 1\\\\\n",
       "\\end{tabular}\n"
      ],
      "text/markdown": [
       "\n",
       "| <!--/--> | Q1 | Q2 | Q3 | Q4 | Q5 | Q6 | Q7 | Q8 | Q9 | Q10 | \n",
       "|---|---|---|---|---|---|---|---|---|---|---|---|---|---|---|---|---|---|---|---|\n",
       "| 1 | 2 | 1 | 5 | 1 | 2 | 2 | 1 | 5 | 3 | 4 | \n",
       "| 3 | 1 | 5 | 3 | 1 | 2 | 4 | 3 | 2 | 3 | 3 | \n",
       "| 4 | 2 | 1 | 2 | 2 | 1 | 3 | 2 | 2 | 1 | 4 | \n",
       "| 5 | 3 | 1 | 1 | 5 | 3 | 3 | 3 | 2 | 1 | 4 | \n",
       "| 7 | 1 | 5 | 1 | 5 | 3 | 2 | 4 | 2 | 5 | 3 | \n",
       "| 9 | 2 | 5 | 4 | 2 | 2 | 1 | 4 | 4 | 3 | 3 | \n",
       "| 10 | 1 | 5 | 1 | 5 | 3 | 2 | 4 | 2 | 5 | 3 | \n",
       "| 11 | 3 | 2 | 3 | 5 | 1 | 5 | 4 | 5 | 5 | 5 | \n",
       "| 12 | 1 | 3 | 2 | 5 | 4 | 1 | 4 | 1 | 5 | 2 | \n",
       "| 13 | 1 | 1 | 4 | 5 | 5 | 4 | 2 | 5 | 2 | 1 | \n",
       "| 20 | 3 | 4 | 3 | 1 | 1 | 2 | 5 | 4 | 5 | 1 | \n",
       "| 27 | 1 | 4 | 4 | 5 | 2 | 5 | 4 | 2 | 1 | 1 | \n",
       "| 28 | 1 | 4 | 4 | 5 | 2 | 5 | 4 | 2 | 1 | 1 | \n",
       "| 29 | 3 | 2 | 3 | 4 | 1 | 2 | 5 | 1 | 3 | 3 | \n",
       "| 30 | 2 | 5 | 4 | 2 | 2 | 1 | 4 | 4 | 3 | 3 | \n",
       "| 38 | 3 | 2 | 3 | 5 | 1 | 5 | 4 | 5 | 5 | 5 | \n",
       "| 40 | 3 | 3 | 4 | 3 | 2 | 3 | 3 | 4 | 4 | 2 | \n",
       "| 41 | 1 | 3 | 2 | 5 | 4 | 1 | 4 | 1 | 5 | 2 | \n",
       "| 43 | 3 | 2 | 2 | 3 | 2 | 2 | 2 | 1 | 1 | 4 | \n",
       "| 44 | 1 | 1 | 4 | 5 | 5 | 4 | 2 | 5 | 2 | 1 | \n",
       "\n",
       "\n"
      ],
      "text/plain": [
       "   Q1 Q2 Q3 Q4 Q5 Q6 Q7 Q8 Q9 Q10\n",
       "1  2  1  5  1  2  2  1  5  3  4  \n",
       "3  1  5  3  1  2  4  3  2  3  3  \n",
       "4  2  1  2  2  1  3  2  2  1  4  \n",
       "5  3  1  1  5  3  3  3  2  1  4  \n",
       "7  1  5  1  5  3  2  4  2  5  3  \n",
       "9  2  5  4  2  2  1  4  4  3  3  \n",
       "10 1  5  1  5  3  2  4  2  5  3  \n",
       "11 3  2  3  5  1  5  4  5  5  5  \n",
       "12 1  3  2  5  4  1  4  1  5  2  \n",
       "13 1  1  4  5  5  4  2  5  2  1  \n",
       "20 3  4  3  1  1  2  5  4  5  1  \n",
       "27 1  4  4  5  2  5  4  2  1  1  \n",
       "28 1  4  4  5  2  5  4  2  1  1  \n",
       "29 3  2  3  4  1  2  5  1  3  3  \n",
       "30 2  5  4  2  2  1  4  4  3  3  \n",
       "38 3  2  3  5  1  5  4  5  5  5  \n",
       "40 3  3  4  3  2  3  3  4  4  2  \n",
       "41 1  3  2  5  4  1  4  1  5  2  \n",
       "43 3  2  2  3  2  2  2  1  1  4  \n",
       "44 1  1  4  5  5  4  2  5  2  1  "
      ]
     },
     "metadata": {},
     "output_type": "display_data"
    }
   ],
   "source": [
    "int_students"
   ]
  },
  {
   "cell_type": "code",
   "execution_count": null,
   "metadata": {
    "collapsed": true
   },
   "outputs": [],
   "source": []
  },
  {
   "cell_type": "markdown",
   "metadata": {},
   "source": [
    "### some statistics"
   ]
  },
  {
   "cell_type": "code",
   "execution_count": 10,
   "metadata": {},
   "outputs": [
    {
     "data": {
      "text/html": [
       "-0.334114289862362"
      ],
      "text/latex": [
       "-0.334114289862362"
      ],
      "text/markdown": [
       "-0.334114289862362"
      ],
      "text/plain": [
       "[1] -0.3341143"
      ]
     },
     "metadata": {},
     "output_type": "display_data"
    }
   ],
   "source": [
    "correlation_between_Q1_Q2=cor(int_students$Q1,int_students$Q2)\n",
    "correlation_between_Q1_Q2"
   ]
  },
  {
   "cell_type": "code",
   "execution_count": 11,
   "metadata": {},
   "outputs": [
    {
     "data": {
      "text/html": [
       "1.9"
      ],
      "text/latex": [
       "1.9"
      ],
      "text/markdown": [
       "1.9"
      ],
      "text/plain": [
       "[1] 1.9"
      ]
     },
     "metadata": {},
     "output_type": "display_data"
    }
   ],
   "source": [
    "mean_Q6=mean(int_students$Q1)\n",
    "mean_Q6"
   ]
  },
  {
   "cell_type": "code",
   "execution_count": null,
   "metadata": {},
   "outputs": [],
   "source": []
  },
  {
   "cell_type": "code",
   "execution_count": null,
   "metadata": {
    "collapsed": true
   },
   "outputs": [],
   "source": []
  },
  {
   "cell_type": "markdown",
   "metadata": {},
   "source": [
    "# 2. Functions"
   ]
  },
  {
   "cell_type": "markdown",
   "metadata": {},
   "source": [
    "Functions are the building blocks of R \n",
    "\n",
    "A function is written as follows: "
   ]
  },
  {
   "cell_type": "markdown",
   "metadata": {},
   "source": [
    "      myfunction <- function(arg1, arg2, ... ){\n",
    "            statements\n",
    "            return(object)\n",
    "      } "
   ]
  },
  {
   "cell_type": "markdown",
   "metadata": {},
   "source": [
    "A function in R is called as;"
   ]
  },
  {
   "cell_type": "markdown",
   "metadata": {},
   "source": [
    "**myfunction(args)**"
   ]
  },
  {
   "cell_type": "markdown",
   "metadata": {},
   "source": [
    "Lets script some functions\n",
    "* Standard Deviation \n",
    "* Frequency Table\n",
    "* Functions using factoring"
   ]
  },
  {
   "cell_type": "markdown",
   "metadata": {},
   "source": [
    "### Standard deviation  "
   ]
  },
  {
   "cell_type": "code",
   "execution_count": 12,
   "metadata": {
    "collapsed": true
   },
   "outputs": [],
   "source": [
    "standard_deviation <- function(sample){\n",
    "    xbar<-mean(sample)\n",
    "    sumXminusXbar_sqrd=0\n",
    "    for(x in  sample){\n",
    "        diff_from_mean=x-xbar\n",
    "        sumXminusXbar_sqrd=sumXminusXbar_sqrd+(diff_from_mean*diff_from_mean)\n",
    "    }\n",
    "    denominator=length(sample)-1\n",
    "    return(sqrt(sumXminusXbar_sqrd/denominator))\n",
    "}"
   ]
  },
  {
   "cell_type": "markdown",
   "metadata": {},
   "source": [
    "#### Lets test the function using the entire data"
   ]
  },
  {
   "cell_type": "code",
   "execution_count": 13,
   "metadata": {},
   "outputs": [
    {
     "data": {
      "text/html": [
       "1.12725643520322"
      ],
      "text/latex": [
       "1.12725643520322"
      ],
      "text/markdown": [
       "1.12725643520322"
      ],
      "text/plain": [
       "[1] 1.127256"
      ]
     },
     "metadata": {},
     "output_type": "display_data"
    }
   ],
   "source": [
    "# Standard Deviation of Q1 responses\n",
    "sd<-standard_deviation(data$Q1)\n",
    "sd"
   ]
  },
  {
   "cell_type": "markdown",
   "metadata": {},
   "source": [
    "#### Lets validate our function with R's built in Standard deviation function"
   ]
  },
  {
   "cell_type": "code",
   "execution_count": 14,
   "metadata": {
    "scrolled": true
   },
   "outputs": [
    {
     "data": {
      "text/html": [
       "1.12725643520322"
      ],
      "text/latex": [
       "1.12725643520322"
      ],
      "text/markdown": [
       "1.12725643520322"
      ],
      "text/plain": [
       "[1] 1.127256"
      ]
     },
     "metadata": {},
     "output_type": "display_data"
    }
   ],
   "source": [
    "sd(data$Q1)"
   ]
  },
  {
   "cell_type": "markdown",
   "metadata": {},
   "source": [
    "### Frequency table"
   ]
  },
  {
   "cell_type": "code",
   "execution_count": 15,
   "metadata": {
    "collapsed": true
   },
   "outputs": [],
   "source": [
    "standard_deviation_table <- function(dataframe){\n",
    "    res <- NULL\n",
    "    \n",
    "    for(columnName in names(dataframe)){\n",
    "        \n",
    "        sample<-dataframe[,c(columnName)]\n",
    "        xbar<-mean(sample)\n",
    "        \n",
    "        #using our own defined started deviation\n",
    "        sd<-standard_deviation(sample)\n",
    "        count<-length(sample)\n",
    "        \n",
    "        res <- rbind(res,c(columnName,count,xbar,sd))\n",
    "        \n",
    "    }\n",
    "    colnames(res) <- c(\"response_for\",\"count\",\"mean\",\"standard_deviation\")\n",
    "    res<-data.frame(res)\n",
    "    return(res)\n",
    "\n",
    "}"
   ]
  },
  {
   "cell_type": "markdown",
   "metadata": {},
   "source": [
    "What does **names**, **rbind**, **colnames** functions do??"
   ]
  },
  {
   "cell_type": "markdown",
   "metadata": {},
   "source": [
    "#### Now lets test our function"
   ]
  },
  {
   "cell_type": "code",
   "execution_count": 16,
   "metadata": {},
   "outputs": [],
   "source": [
    "# selecting or subsetting column 1 to 10 of our entire data\n",
    "\n",
    "all_questions=data[,1:10]"
   ]
  },
  {
   "cell_type": "code",
   "execution_count": 17,
   "metadata": {},
   "outputs": [
    {
     "data": {
      "text/html": [
       "<table>\n",
       "<thead><tr><th scope=col>response_for</th><th scope=col>count</th><th scope=col>mean</th><th scope=col>standard_deviation</th></tr></thead>\n",
       "<tbody>\n",
       "\t<tr><td>Q1              </td><td>45              </td><td>2.15555555555556</td><td>1.12725643520322</td></tr>\n",
       "\t<tr><td>Q2              </td><td>45              </td><td>3.06666666666667</td><td>1.55797070809201</td></tr>\n",
       "\t<tr><td>Q3              </td><td>45              </td><td>2.97777777777778</td><td>1.38971692488547</td></tr>\n",
       "\t<tr><td>Q4              </td><td>45              </td><td>3.28888888888889</td><td>1.54658306984112</td></tr>\n",
       "\t<tr><td>Q5              </td><td>45              </td><td>2.73333333333333</td><td>1.33824851612437</td></tr>\n",
       "\t<tr><td>Q6              </td><td>45              </td><td>2.82222222222222</td><td>1.40273902336706</td></tr>\n",
       "\t<tr><td>Q7              </td><td>45              </td><td>3.71111111111111</td><td>1.16037263259034</td></tr>\n",
       "\t<tr><td>Q8              </td><td>45              </td><td>3.17777777777778</td><td>1.40273902336706</td></tr>\n",
       "\t<tr><td>Q9              </td><td>45              </td><td>3.11111111111111</td><td>1.51090313482641</td></tr>\n",
       "\t<tr><td>Q10             </td><td>45              </td><td>3.15555555555556</td><td>1.31348868485896</td></tr>\n",
       "</tbody>\n",
       "</table>\n"
      ],
      "text/latex": [
       "\\begin{tabular}{r|llll}\n",
       " response\\_for & count & mean & standard\\_deviation\\\\\n",
       "\\hline\n",
       "\t Q1               & 45               & 2.15555555555556 & 1.12725643520322\\\\\n",
       "\t Q2               & 45               & 3.06666666666667 & 1.55797070809201\\\\\n",
       "\t Q3               & 45               & 2.97777777777778 & 1.38971692488547\\\\\n",
       "\t Q4               & 45               & 3.28888888888889 & 1.54658306984112\\\\\n",
       "\t Q5               & 45               & 2.73333333333333 & 1.33824851612437\\\\\n",
       "\t Q6               & 45               & 2.82222222222222 & 1.40273902336706\\\\\n",
       "\t Q7               & 45               & 3.71111111111111 & 1.16037263259034\\\\\n",
       "\t Q8               & 45               & 3.17777777777778 & 1.40273902336706\\\\\n",
       "\t Q9               & 45               & 3.11111111111111 & 1.51090313482641\\\\\n",
       "\t Q10              & 45               & 3.15555555555556 & 1.31348868485896\\\\\n",
       "\\end{tabular}\n"
      ],
      "text/markdown": [
       "\n",
       "response_for | count | mean | standard_deviation | \n",
       "|---|---|---|---|---|---|---|---|---|---|\n",
       "| Q1               | 45               | 2.15555555555556 | 1.12725643520322 | \n",
       "| Q2               | 45               | 3.06666666666667 | 1.55797070809201 | \n",
       "| Q3               | 45               | 2.97777777777778 | 1.38971692488547 | \n",
       "| Q4               | 45               | 3.28888888888889 | 1.54658306984112 | \n",
       "| Q5               | 45               | 2.73333333333333 | 1.33824851612437 | \n",
       "| Q6               | 45               | 2.82222222222222 | 1.40273902336706 | \n",
       "| Q7               | 45               | 3.71111111111111 | 1.16037263259034 | \n",
       "| Q8               | 45               | 3.17777777777778 | 1.40273902336706 | \n",
       "| Q9               | 45               | 3.11111111111111 | 1.51090313482641 | \n",
       "| Q10              | 45               | 3.15555555555556 | 1.31348868485896 | \n",
       "\n",
       "\n"
      ],
      "text/plain": [
       "   response_for count mean             standard_deviation\n",
       "1  Q1           45    2.15555555555556 1.12725643520322  \n",
       "2  Q2           45    3.06666666666667 1.55797070809201  \n",
       "3  Q3           45    2.97777777777778 1.38971692488547  \n",
       "4  Q4           45    3.28888888888889 1.54658306984112  \n",
       "5  Q5           45    2.73333333333333 1.33824851612437  \n",
       "6  Q6           45    2.82222222222222 1.40273902336706  \n",
       "7  Q7           45    3.71111111111111 1.16037263259034  \n",
       "8  Q8           45    3.17777777777778 1.40273902336706  \n",
       "9  Q9           45    3.11111111111111 1.51090313482641  \n",
       "10 Q10          45    3.15555555555556 1.31348868485896  "
      ]
     },
     "metadata": {},
     "output_type": "display_data"
    }
   ],
   "source": [
    "freq_table<-standard_deviation_table(all_questions)\n",
    "freq_table"
   ]
  },
  {
   "cell_type": "code",
   "execution_count": null,
   "metadata": {},
   "outputs": [],
   "source": []
  },
  {
   "cell_type": "markdown",
   "metadata": {},
   "source": [
    "### Functions using factoring"
   ]
  },
  {
   "cell_type": "markdown",
   "metadata": {},
   "source": [
    "Lets look at our entire data again"
   ]
  },
  {
   "cell_type": "code",
   "execution_count": 20,
   "metadata": {},
   "outputs": [
    {
     "data": {
      "text/html": [
       "<table>\n",
       "<thead><tr><th scope=col>Q1</th><th scope=col>Q2</th><th scope=col>Q3</th><th scope=col>Q4</th><th scope=col>Q5</th><th scope=col>Q6</th><th scope=col>Q7</th><th scope=col>Q8</th><th scope=col>Q9</th><th scope=col>Q10</th><th scope=col>gender</th><th scope=col>finnish</th><th scope=col>website</th></tr></thead>\n",
       "<tbody>\n",
       "\t<tr><td>2     </td><td>1     </td><td>5     </td><td>1     </td><td>2     </td><td>2     </td><td>1     </td><td>5     </td><td>3     </td><td>4     </td><td>male  </td><td>no    </td><td>BBC   </td></tr>\n",
       "\t<tr><td>4     </td><td>2     </td><td>4     </td><td>5     </td><td>1     </td><td>5     </td><td>1     </td><td>5     </td><td>5     </td><td>5     </td><td>male  </td><td>yes   </td><td>BBC   </td></tr>\n",
       "\t<tr><td>1     </td><td>5     </td><td>3     </td><td>1     </td><td>2     </td><td>4     </td><td>3     </td><td>2     </td><td>3     </td><td>3     </td><td>male  </td><td>no    </td><td>CNN   </td></tr>\n",
       "\t<tr><td>2     </td><td>1     </td><td>2     </td><td>2     </td><td>1     </td><td>3     </td><td>2     </td><td>2     </td><td>1     </td><td>4     </td><td>female</td><td>no    </td><td>BBC   </td></tr>\n",
       "\t<tr><td>3     </td><td>1     </td><td>1     </td><td>5     </td><td>3     </td><td>3     </td><td>3     </td><td>2     </td><td>1     </td><td>4     </td><td>female</td><td>no    </td><td>CNN   </td></tr>\n",
       "\t<tr><td>2     </td><td>5     </td><td>2     </td><td>3     </td><td>2     </td><td>5     </td><td>5     </td><td>4     </td><td>3     </td><td>1     </td><td>female</td><td>yes   </td><td>BBC   </td></tr>\n",
       "\t<tr><td>1     </td><td>5     </td><td>1     </td><td>5     </td><td>3     </td><td>2     </td><td>4     </td><td>2     </td><td>5     </td><td>3     </td><td>male  </td><td>no    </td><td>BBC   </td></tr>\n",
       "\t<tr><td>2     </td><td>1     </td><td>5     </td><td>4     </td><td>1     </td><td>2     </td><td>2     </td><td>3     </td><td>5     </td><td>3     </td><td>male  </td><td>yes   </td><td>CNN   </td></tr>\n",
       "\t<tr><td>2     </td><td>5     </td><td>4     </td><td>2     </td><td>2     </td><td>1     </td><td>4     </td><td>4     </td><td>3     </td><td>3     </td><td>male  </td><td>no    </td><td>CNN   </td></tr>\n",
       "\t<tr><td>1     </td><td>5     </td><td>1     </td><td>5     </td><td>3     </td><td>2     </td><td>4     </td><td>2     </td><td>5     </td><td>3     </td><td>male  </td><td>no    </td><td>CNN   </td></tr>\n",
       "\t<tr><td>3     </td><td>2     </td><td>3     </td><td>5     </td><td>1     </td><td>5     </td><td>4     </td><td>5     </td><td>5     </td><td>5     </td><td>female</td><td>no    </td><td>BBC   </td></tr>\n",
       "\t<tr><td>1     </td><td>3     </td><td>2     </td><td>5     </td><td>4     </td><td>1     </td><td>4     </td><td>1     </td><td>5     </td><td>2     </td><td>female</td><td>no    </td><td>CNN   </td></tr>\n",
       "\t<tr><td>1     </td><td>1     </td><td>4     </td><td>5     </td><td>5     </td><td>4     </td><td>2     </td><td>5     </td><td>2     </td><td>1     </td><td>male  </td><td>no    </td><td>CNN   </td></tr>\n",
       "\t<tr><td>4     </td><td>2     </td><td>5     </td><td>1     </td><td>4     </td><td>2     </td><td>5     </td><td>4     </td><td>4     </td><td>5     </td><td>female</td><td>yes   </td><td>CNN   </td></tr>\n",
       "\t<tr><td>1     </td><td>5     </td><td>3     </td><td>1     </td><td>2     </td><td>4     </td><td>3     </td><td>2     </td><td>3     </td><td>3     </td><td>male  </td><td>yes   </td><td>BBC   </td></tr>\n",
       "\t<tr><td>3     </td><td>3     </td><td>4     </td><td>3     </td><td>2     </td><td>3     </td><td>3     </td><td>4     </td><td>4     </td><td>2     </td><td>male  </td><td>yes   </td><td>BBC   </td></tr>\n",
       "\t<tr><td>2     </td><td>2     </td><td>1     </td><td>4     </td><td>4     </td><td>1     </td><td>3     </td><td>4     </td><td>1     </td><td>5     </td><td>female</td><td>yes   </td><td>CNN   </td></tr>\n",
       "\t<tr><td>4     </td><td>2     </td><td>5     </td><td>1     </td><td>4     </td><td>2     </td><td>5     </td><td>4     </td><td>4     </td><td>5     </td><td>female</td><td>yes   </td><td>BBC   </td></tr>\n",
       "\t<tr><td>2     </td><td>5     </td><td>1     </td><td>3     </td><td>5     </td><td>1     </td><td>4     </td><td>5     </td><td>2     </td><td>4     </td><td>male  </td><td>yes   </td><td>BBC   </td></tr>\n",
       "\t<tr><td>3     </td><td>4     </td><td>3     </td><td>1     </td><td>1     </td><td>2     </td><td>5     </td><td>4     </td><td>5     </td><td>1     </td><td>female</td><td>no    </td><td>BBC   </td></tr>\n",
       "\t<tr><td>2     </td><td>1     </td><td>5     </td><td>4     </td><td>1     </td><td>2     </td><td>2     </td><td>3     </td><td>5     </td><td>3     </td><td>male  </td><td>yes   </td><td>BBC   </td></tr>\n",
       "\t<tr><td>2     </td><td>1     </td><td>5     </td><td>5     </td><td>4     </td><td>3     </td><td>5     </td><td>4     </td><td>1     </td><td>4     </td><td>male  </td><td>yes   </td><td>BBC   </td></tr>\n",
       "\t<tr><td>1     </td><td>2     </td><td>1     </td><td>2     </td><td>2     </td><td>2     </td><td>5     </td><td>5     </td><td>4     </td><td>4     </td><td>male  </td><td>yes   </td><td>BBC   </td></tr>\n",
       "\t<tr><td>3     </td><td>4     </td><td>3     </td><td>1     </td><td>1     </td><td>2     </td><td>5     </td><td>4     </td><td>5     </td><td>1     </td><td>female</td><td>yes   </td><td>CNN   </td></tr>\n",
       "\t<tr><td>2     </td><td>1     </td><td>5     </td><td>5     </td><td>4     </td><td>3     </td><td>5     </td><td>4     </td><td>1     </td><td>4     </td><td>male  </td><td>yes   </td><td>CNN   </td></tr>\n",
       "\t<tr><td>3     </td><td>4     </td><td>2     </td><td>2     </td><td>3     </td><td>5     </td><td>5     </td><td>2     </td><td>3     </td><td>4     </td><td>male  </td><td>yes   </td><td>CNN   </td></tr>\n",
       "\t<tr><td>1     </td><td>4     </td><td>4     </td><td>5     </td><td>2     </td><td>5     </td><td>4     </td><td>2     </td><td>1     </td><td>1     </td><td>female</td><td>no    </td><td>CNN   </td></tr>\n",
       "\t<tr><td>1     </td><td>4     </td><td>4     </td><td>5     </td><td>2     </td><td>5     </td><td>4     </td><td>2     </td><td>1     </td><td>1     </td><td>female</td><td>no    </td><td>BBC   </td></tr>\n",
       "\t<tr><td>3     </td><td>2     </td><td>3     </td><td>4     </td><td>1     </td><td>2     </td><td>5     </td><td>1     </td><td>3     </td><td>3     </td><td>female</td><td>no    </td><td>CNN   </td></tr>\n",
       "\t<tr><td>2     </td><td>5     </td><td>4     </td><td>2     </td><td>2     </td><td>1     </td><td>4     </td><td>4     </td><td>3     </td><td>3     </td><td>male  </td><td>no    </td><td>BBC   </td></tr>\n",
       "\t<tr><td>1     </td><td>5     </td><td>4     </td><td>3     </td><td>5     </td><td>2     </td><td>5     </td><td>4     </td><td>4     </td><td>3     </td><td>female</td><td>yes   </td><td>BBC   </td></tr>\n",
       "\t<tr><td>5     </td><td>2     </td><td>2     </td><td>2     </td><td>3     </td><td>3     </td><td>4     </td><td>1     </td><td>2     </td><td>4     </td><td>male  </td><td>yes   </td><td>BBC   </td></tr>\n",
       "\t<tr><td>1     </td><td>5     </td><td>3     </td><td>1     </td><td>2     </td><td>4     </td><td>3     </td><td>2     </td><td>3     </td><td>3     </td><td>male  </td><td>yes   </td><td>CNN   </td></tr>\n",
       "\t<tr><td>5     </td><td>2     </td><td>2     </td><td>2     </td><td>3     </td><td>3     </td><td>4     </td><td>1     </td><td>2     </td><td>4     </td><td>male  </td><td>yes   </td><td>CNN   </td></tr>\n",
       "\t<tr><td>3     </td><td>4     </td><td>2     </td><td>2     </td><td>3     </td><td>5     </td><td>5     </td><td>2     </td><td>3     </td><td>4     </td><td>male  </td><td>yes   </td><td>BBC   </td></tr>\n",
       "\t<tr><td>1     </td><td>5     </td><td>1     </td><td>5     </td><td>3     </td><td>2     </td><td>4     </td><td>2     </td><td>5     </td><td>3     </td><td>male  </td><td>yes   </td><td>BBC   </td></tr>\n",
       "\t<tr><td>1     </td><td>5     </td><td>4     </td><td>3     </td><td>5     </td><td>2     </td><td>5     </td><td>4     </td><td>4     </td><td>3     </td><td>female</td><td>yes   </td><td>CNN   </td></tr>\n",
       "\t<tr><td>3     </td><td>2     </td><td>3     </td><td>5     </td><td>1     </td><td>5     </td><td>4     </td><td>5     </td><td>5     </td><td>5     </td><td>female</td><td>no    </td><td>CNN   </td></tr>\n",
       "\t<tr><td>2     </td><td>5     </td><td>1     </td><td>3     </td><td>5     </td><td>1     </td><td>4     </td><td>5     </td><td>2     </td><td>4     </td><td>male  </td><td>yes   </td><td>CNN   </td></tr>\n",
       "\t<tr><td>3     </td><td>3     </td><td>4     </td><td>3     </td><td>2     </td><td>3     </td><td>3     </td><td>4     </td><td>4     </td><td>2     </td><td>male  </td><td>no    </td><td>BBC   </td></tr>\n",
       "\t<tr><td>1     </td><td>3     </td><td>2     </td><td>5     </td><td>4     </td><td>1     </td><td>4     </td><td>1     </td><td>5     </td><td>2     </td><td>female</td><td>no    </td><td>BBC   </td></tr>\n",
       "\t<tr><td>2     </td><td>2     </td><td>1     </td><td>4     </td><td>4     </td><td>1     </td><td>3     </td><td>4     </td><td>1     </td><td>5     </td><td>female</td><td>yes   </td><td>BBC   </td></tr>\n",
       "\t<tr><td>3     </td><td>2     </td><td>2     </td><td>3     </td><td>2     </td><td>2     </td><td>2     </td><td>1     </td><td>1     </td><td>4     </td><td>male  </td><td>no    </td><td>CNN   </td></tr>\n",
       "\t<tr><td>1     </td><td>1     </td><td>4     </td><td>5     </td><td>5     </td><td>4     </td><td>2     </td><td>5     </td><td>2     </td><td>1     </td><td>male  </td><td>no    </td><td>BBC   </td></tr>\n",
       "\t<tr><td>1     </td><td>4     </td><td>4     </td><td>5     </td><td>2     </td><td>5     </td><td>4     </td><td>2     </td><td>1     </td><td>1     </td><td>female</td><td>yes   </td><td>BBC   </td></tr>\n",
       "</tbody>\n",
       "</table>\n"
      ],
      "text/latex": [
       "\\begin{tabular}{r|lllllllllllll}\n",
       " Q1 & Q2 & Q3 & Q4 & Q5 & Q6 & Q7 & Q8 & Q9 & Q10 & gender & finnish & website\\\\\n",
       "\\hline\n",
       "\t 2      & 1      & 5      & 1      & 2      & 2      & 1      & 5      & 3      & 4      & male   & no     & BBC   \\\\\n",
       "\t 4      & 2      & 4      & 5      & 1      & 5      & 1      & 5      & 5      & 5      & male   & yes    & BBC   \\\\\n",
       "\t 1      & 5      & 3      & 1      & 2      & 4      & 3      & 2      & 3      & 3      & male   & no     & CNN   \\\\\n",
       "\t 2      & 1      & 2      & 2      & 1      & 3      & 2      & 2      & 1      & 4      & female & no     & BBC   \\\\\n",
       "\t 3      & 1      & 1      & 5      & 3      & 3      & 3      & 2      & 1      & 4      & female & no     & CNN   \\\\\n",
       "\t 2      & 5      & 2      & 3      & 2      & 5      & 5      & 4      & 3      & 1      & female & yes    & BBC   \\\\\n",
       "\t 1      & 5      & 1      & 5      & 3      & 2      & 4      & 2      & 5      & 3      & male   & no     & BBC   \\\\\n",
       "\t 2      & 1      & 5      & 4      & 1      & 2      & 2      & 3      & 5      & 3      & male   & yes    & CNN   \\\\\n",
       "\t 2      & 5      & 4      & 2      & 2      & 1      & 4      & 4      & 3      & 3      & male   & no     & CNN   \\\\\n",
       "\t 1      & 5      & 1      & 5      & 3      & 2      & 4      & 2      & 5      & 3      & male   & no     & CNN   \\\\\n",
       "\t 3      & 2      & 3      & 5      & 1      & 5      & 4      & 5      & 5      & 5      & female & no     & BBC   \\\\\n",
       "\t 1      & 3      & 2      & 5      & 4      & 1      & 4      & 1      & 5      & 2      & female & no     & CNN   \\\\\n",
       "\t 1      & 1      & 4      & 5      & 5      & 4      & 2      & 5      & 2      & 1      & male   & no     & CNN   \\\\\n",
       "\t 4      & 2      & 5      & 1      & 4      & 2      & 5      & 4      & 4      & 5      & female & yes    & CNN   \\\\\n",
       "\t 1      & 5      & 3      & 1      & 2      & 4      & 3      & 2      & 3      & 3      & male   & yes    & BBC   \\\\\n",
       "\t 3      & 3      & 4      & 3      & 2      & 3      & 3      & 4      & 4      & 2      & male   & yes    & BBC   \\\\\n",
       "\t 2      & 2      & 1      & 4      & 4      & 1      & 3      & 4      & 1      & 5      & female & yes    & CNN   \\\\\n",
       "\t 4      & 2      & 5      & 1      & 4      & 2      & 5      & 4      & 4      & 5      & female & yes    & BBC   \\\\\n",
       "\t 2      & 5      & 1      & 3      & 5      & 1      & 4      & 5      & 2      & 4      & male   & yes    & BBC   \\\\\n",
       "\t 3      & 4      & 3      & 1      & 1      & 2      & 5      & 4      & 5      & 1      & female & no     & BBC   \\\\\n",
       "\t 2      & 1      & 5      & 4      & 1      & 2      & 2      & 3      & 5      & 3      & male   & yes    & BBC   \\\\\n",
       "\t 2      & 1      & 5      & 5      & 4      & 3      & 5      & 4      & 1      & 4      & male   & yes    & BBC   \\\\\n",
       "\t 1      & 2      & 1      & 2      & 2      & 2      & 5      & 5      & 4      & 4      & male   & yes    & BBC   \\\\\n",
       "\t 3      & 4      & 3      & 1      & 1      & 2      & 5      & 4      & 5      & 1      & female & yes    & CNN   \\\\\n",
       "\t 2      & 1      & 5      & 5      & 4      & 3      & 5      & 4      & 1      & 4      & male   & yes    & CNN   \\\\\n",
       "\t 3      & 4      & 2      & 2      & 3      & 5      & 5      & 2      & 3      & 4      & male   & yes    & CNN   \\\\\n",
       "\t 1      & 4      & 4      & 5      & 2      & 5      & 4      & 2      & 1      & 1      & female & no     & CNN   \\\\\n",
       "\t 1      & 4      & 4      & 5      & 2      & 5      & 4      & 2      & 1      & 1      & female & no     & BBC   \\\\\n",
       "\t 3      & 2      & 3      & 4      & 1      & 2      & 5      & 1      & 3      & 3      & female & no     & CNN   \\\\\n",
       "\t 2      & 5      & 4      & 2      & 2      & 1      & 4      & 4      & 3      & 3      & male   & no     & BBC   \\\\\n",
       "\t 1      & 5      & 4      & 3      & 5      & 2      & 5      & 4      & 4      & 3      & female & yes    & BBC   \\\\\n",
       "\t 5      & 2      & 2      & 2      & 3      & 3      & 4      & 1      & 2      & 4      & male   & yes    & BBC   \\\\\n",
       "\t 1      & 5      & 3      & 1      & 2      & 4      & 3      & 2      & 3      & 3      & male   & yes    & CNN   \\\\\n",
       "\t 5      & 2      & 2      & 2      & 3      & 3      & 4      & 1      & 2      & 4      & male   & yes    & CNN   \\\\\n",
       "\t 3      & 4      & 2      & 2      & 3      & 5      & 5      & 2      & 3      & 4      & male   & yes    & BBC   \\\\\n",
       "\t 1      & 5      & 1      & 5      & 3      & 2      & 4      & 2      & 5      & 3      & male   & yes    & BBC   \\\\\n",
       "\t 1      & 5      & 4      & 3      & 5      & 2      & 5      & 4      & 4      & 3      & female & yes    & CNN   \\\\\n",
       "\t 3      & 2      & 3      & 5      & 1      & 5      & 4      & 5      & 5      & 5      & female & no     & CNN   \\\\\n",
       "\t 2      & 5      & 1      & 3      & 5      & 1      & 4      & 5      & 2      & 4      & male   & yes    & CNN   \\\\\n",
       "\t 3      & 3      & 4      & 3      & 2      & 3      & 3      & 4      & 4      & 2      & male   & no     & BBC   \\\\\n",
       "\t 1      & 3      & 2      & 5      & 4      & 1      & 4      & 1      & 5      & 2      & female & no     & BBC   \\\\\n",
       "\t 2      & 2      & 1      & 4      & 4      & 1      & 3      & 4      & 1      & 5      & female & yes    & BBC   \\\\\n",
       "\t 3      & 2      & 2      & 3      & 2      & 2      & 2      & 1      & 1      & 4      & male   & no     & CNN   \\\\\n",
       "\t 1      & 1      & 4      & 5      & 5      & 4      & 2      & 5      & 2      & 1      & male   & no     & BBC   \\\\\n",
       "\t 1      & 4      & 4      & 5      & 2      & 5      & 4      & 2      & 1      & 1      & female & yes    & BBC   \\\\\n",
       "\\end{tabular}\n"
      ],
      "text/markdown": [
       "\n",
       "Q1 | Q2 | Q3 | Q4 | Q5 | Q6 | Q7 | Q8 | Q9 | Q10 | gender | finnish | website | \n",
       "|---|---|---|---|---|---|---|---|---|---|---|---|---|---|---|---|---|---|---|---|---|---|---|---|---|---|---|---|---|---|---|---|---|---|---|---|---|---|---|---|---|---|---|---|---|\n",
       "| 2      | 1      | 5      | 1      | 2      | 2      | 1      | 5      | 3      | 4      | male   | no     | BBC    | \n",
       "| 4      | 2      | 4      | 5      | 1      | 5      | 1      | 5      | 5      | 5      | male   | yes    | BBC    | \n",
       "| 1      | 5      | 3      | 1      | 2      | 4      | 3      | 2      | 3      | 3      | male   | no     | CNN    | \n",
       "| 2      | 1      | 2      | 2      | 1      | 3      | 2      | 2      | 1      | 4      | female | no     | BBC    | \n",
       "| 3      | 1      | 1      | 5      | 3      | 3      | 3      | 2      | 1      | 4      | female | no     | CNN    | \n",
       "| 2      | 5      | 2      | 3      | 2      | 5      | 5      | 4      | 3      | 1      | female | yes    | BBC    | \n",
       "| 1      | 5      | 1      | 5      | 3      | 2      | 4      | 2      | 5      | 3      | male   | no     | BBC    | \n",
       "| 2      | 1      | 5      | 4      | 1      | 2      | 2      | 3      | 5      | 3      | male   | yes    | CNN    | \n",
       "| 2      | 5      | 4      | 2      | 2      | 1      | 4      | 4      | 3      | 3      | male   | no     | CNN    | \n",
       "| 1      | 5      | 1      | 5      | 3      | 2      | 4      | 2      | 5      | 3      | male   | no     | CNN    | \n",
       "| 3      | 2      | 3      | 5      | 1      | 5      | 4      | 5      | 5      | 5      | female | no     | BBC    | \n",
       "| 1      | 3      | 2      | 5      | 4      | 1      | 4      | 1      | 5      | 2      | female | no     | CNN    | \n",
       "| 1      | 1      | 4      | 5      | 5      | 4      | 2      | 5      | 2      | 1      | male   | no     | CNN    | \n",
       "| 4      | 2      | 5      | 1      | 4      | 2      | 5      | 4      | 4      | 5      | female | yes    | CNN    | \n",
       "| 1      | 5      | 3      | 1      | 2      | 4      | 3      | 2      | 3      | 3      | male   | yes    | BBC    | \n",
       "| 3      | 3      | 4      | 3      | 2      | 3      | 3      | 4      | 4      | 2      | male   | yes    | BBC    | \n",
       "| 2      | 2      | 1      | 4      | 4      | 1      | 3      | 4      | 1      | 5      | female | yes    | CNN    | \n",
       "| 4      | 2      | 5      | 1      | 4      | 2      | 5      | 4      | 4      | 5      | female | yes    | BBC    | \n",
       "| 2      | 5      | 1      | 3      | 5      | 1      | 4      | 5      | 2      | 4      | male   | yes    | BBC    | \n",
       "| 3      | 4      | 3      | 1      | 1      | 2      | 5      | 4      | 5      | 1      | female | no     | BBC    | \n",
       "| 2      | 1      | 5      | 4      | 1      | 2      | 2      | 3      | 5      | 3      | male   | yes    | BBC    | \n",
       "| 2      | 1      | 5      | 5      | 4      | 3      | 5      | 4      | 1      | 4      | male   | yes    | BBC    | \n",
       "| 1      | 2      | 1      | 2      | 2      | 2      | 5      | 5      | 4      | 4      | male   | yes    | BBC    | \n",
       "| 3      | 4      | 3      | 1      | 1      | 2      | 5      | 4      | 5      | 1      | female | yes    | CNN    | \n",
       "| 2      | 1      | 5      | 5      | 4      | 3      | 5      | 4      | 1      | 4      | male   | yes    | CNN    | \n",
       "| 3      | 4      | 2      | 2      | 3      | 5      | 5      | 2      | 3      | 4      | male   | yes    | CNN    | \n",
       "| 1      | 4      | 4      | 5      | 2      | 5      | 4      | 2      | 1      | 1      | female | no     | CNN    | \n",
       "| 1      | 4      | 4      | 5      | 2      | 5      | 4      | 2      | 1      | 1      | female | no     | BBC    | \n",
       "| 3      | 2      | 3      | 4      | 1      | 2      | 5      | 1      | 3      | 3      | female | no     | CNN    | \n",
       "| 2      | 5      | 4      | 2      | 2      | 1      | 4      | 4      | 3      | 3      | male   | no     | BBC    | \n",
       "| 1      | 5      | 4      | 3      | 5      | 2      | 5      | 4      | 4      | 3      | female | yes    | BBC    | \n",
       "| 5      | 2      | 2      | 2      | 3      | 3      | 4      | 1      | 2      | 4      | male   | yes    | BBC    | \n",
       "| 1      | 5      | 3      | 1      | 2      | 4      | 3      | 2      | 3      | 3      | male   | yes    | CNN    | \n",
       "| 5      | 2      | 2      | 2      | 3      | 3      | 4      | 1      | 2      | 4      | male   | yes    | CNN    | \n",
       "| 3      | 4      | 2      | 2      | 3      | 5      | 5      | 2      | 3      | 4      | male   | yes    | BBC    | \n",
       "| 1      | 5      | 1      | 5      | 3      | 2      | 4      | 2      | 5      | 3      | male   | yes    | BBC    | \n",
       "| 1      | 5      | 4      | 3      | 5      | 2      | 5      | 4      | 4      | 3      | female | yes    | CNN    | \n",
       "| 3      | 2      | 3      | 5      | 1      | 5      | 4      | 5      | 5      | 5      | female | no     | CNN    | \n",
       "| 2      | 5      | 1      | 3      | 5      | 1      | 4      | 5      | 2      | 4      | male   | yes    | CNN    | \n",
       "| 3      | 3      | 4      | 3      | 2      | 3      | 3      | 4      | 4      | 2      | male   | no     | BBC    | \n",
       "| 1      | 3      | 2      | 5      | 4      | 1      | 4      | 1      | 5      | 2      | female | no     | BBC    | \n",
       "| 2      | 2      | 1      | 4      | 4      | 1      | 3      | 4      | 1      | 5      | female | yes    | BBC    | \n",
       "| 3      | 2      | 2      | 3      | 2      | 2      | 2      | 1      | 1      | 4      | male   | no     | CNN    | \n",
       "| 1      | 1      | 4      | 5      | 5      | 4      | 2      | 5      | 2      | 1      | male   | no     | BBC    | \n",
       "| 1      | 4      | 4      | 5      | 2      | 5      | 4      | 2      | 1      | 1      | female | yes    | BBC    | \n",
       "\n",
       "\n"
      ],
      "text/plain": [
       "   Q1 Q2 Q3 Q4 Q5 Q6 Q7 Q8 Q9 Q10 gender finnish website\n",
       "1  2  1  5  1  2  2  1  5  3  4   male   no      BBC    \n",
       "2  4  2  4  5  1  5  1  5  5  5   male   yes     BBC    \n",
       "3  1  5  3  1  2  4  3  2  3  3   male   no      CNN    \n",
       "4  2  1  2  2  1  3  2  2  1  4   female no      BBC    \n",
       "5  3  1  1  5  3  3  3  2  1  4   female no      CNN    \n",
       "6  2  5  2  3  2  5  5  4  3  1   female yes     BBC    \n",
       "7  1  5  1  5  3  2  4  2  5  3   male   no      BBC    \n",
       "8  2  1  5  4  1  2  2  3  5  3   male   yes     CNN    \n",
       "9  2  5  4  2  2  1  4  4  3  3   male   no      CNN    \n",
       "10 1  5  1  5  3  2  4  2  5  3   male   no      CNN    \n",
       "11 3  2  3  5  1  5  4  5  5  5   female no      BBC    \n",
       "12 1  3  2  5  4  1  4  1  5  2   female no      CNN    \n",
       "13 1  1  4  5  5  4  2  5  2  1   male   no      CNN    \n",
       "14 4  2  5  1  4  2  5  4  4  5   female yes     CNN    \n",
       "15 1  5  3  1  2  4  3  2  3  3   male   yes     BBC    \n",
       "16 3  3  4  3  2  3  3  4  4  2   male   yes     BBC    \n",
       "17 2  2  1  4  4  1  3  4  1  5   female yes     CNN    \n",
       "18 4  2  5  1  4  2  5  4  4  5   female yes     BBC    \n",
       "19 2  5  1  3  5  1  4  5  2  4   male   yes     BBC    \n",
       "20 3  4  3  1  1  2  5  4  5  1   female no      BBC    \n",
       "21 2  1  5  4  1  2  2  3  5  3   male   yes     BBC    \n",
       "22 2  1  5  5  4  3  5  4  1  4   male   yes     BBC    \n",
       "23 1  2  1  2  2  2  5  5  4  4   male   yes     BBC    \n",
       "24 3  4  3  1  1  2  5  4  5  1   female yes     CNN    \n",
       "25 2  1  5  5  4  3  5  4  1  4   male   yes     CNN    \n",
       "26 3  4  2  2  3  5  5  2  3  4   male   yes     CNN    \n",
       "27 1  4  4  5  2  5  4  2  1  1   female no      CNN    \n",
       "28 1  4  4  5  2  5  4  2  1  1   female no      BBC    \n",
       "29 3  2  3  4  1  2  5  1  3  3   female no      CNN    \n",
       "30 2  5  4  2  2  1  4  4  3  3   male   no      BBC    \n",
       "31 1  5  4  3  5  2  5  4  4  3   female yes     BBC    \n",
       "32 5  2  2  2  3  3  4  1  2  4   male   yes     BBC    \n",
       "33 1  5  3  1  2  4  3  2  3  3   male   yes     CNN    \n",
       "34 5  2  2  2  3  3  4  1  2  4   male   yes     CNN    \n",
       "35 3  4  2  2  3  5  5  2  3  4   male   yes     BBC    \n",
       "36 1  5  1  5  3  2  4  2  5  3   male   yes     BBC    \n",
       "37 1  5  4  3  5  2  5  4  4  3   female yes     CNN    \n",
       "38 3  2  3  5  1  5  4  5  5  5   female no      CNN    \n",
       "39 2  5  1  3  5  1  4  5  2  4   male   yes     CNN    \n",
       "40 3  3  4  3  2  3  3  4  4  2   male   no      BBC    \n",
       "41 1  3  2  5  4  1  4  1  5  2   female no      BBC    \n",
       "42 2  2  1  4  4  1  3  4  1  5   female yes     BBC    \n",
       "43 3  2  2  3  2  2  2  1  1  4   male   no      CNN    \n",
       "44 1  1  4  5  5  4  2  5  2  1   male   no      BBC    \n",
       "45 1  4  4  5  2  5  4  2  1  1   female yes     BBC    "
      ]
     },
     "metadata": {},
     "output_type": "display_data"
    }
   ],
   "source": [
    "data"
   ]
  },
  {
   "cell_type": "code",
   "execution_count": 30,
   "metadata": {},
   "outputs": [
    {
     "data": {
      "text/html": [
       "<ol class=list-inline>\n",
       "\t<li>'BBC'</li>\n",
       "\t<li>'CNN'</li>\n",
       "</ol>\n"
      ],
      "text/latex": [
       "\\begin{enumerate*}\n",
       "\\item 'BBC'\n",
       "\\item 'CNN'\n",
       "\\end{enumerate*}\n"
      ],
      "text/markdown": [
       "1. 'BBC'\n",
       "2. 'CNN'\n",
       "\n",
       "\n"
      ],
      "text/plain": [
       "[1] \"BBC\" \"CNN\""
      ]
     },
     "metadata": {},
     "output_type": "display_data"
    },
    {
     "data": {
      "text/html": [
       "<ol class=list-inline>\n",
       "\t<li>BBC</li>\n",
       "\t<li>BBC</li>\n",
       "\t<li>CNN</li>\n",
       "\t<li>BBC</li>\n",
       "\t<li>CNN</li>\n",
       "\t<li>BBC</li>\n",
       "\t<li>BBC</li>\n",
       "\t<li>CNN</li>\n",
       "\t<li>CNN</li>\n",
       "\t<li>CNN</li>\n",
       "\t<li>BBC</li>\n",
       "\t<li>CNN</li>\n",
       "\t<li>CNN</li>\n",
       "\t<li>CNN</li>\n",
       "\t<li>BBC</li>\n",
       "\t<li>BBC</li>\n",
       "\t<li>CNN</li>\n",
       "\t<li>BBC</li>\n",
       "\t<li>BBC</li>\n",
       "\t<li>BBC</li>\n",
       "\t<li>BBC</li>\n",
       "\t<li>BBC</li>\n",
       "\t<li>BBC</li>\n",
       "\t<li>CNN</li>\n",
       "\t<li>CNN</li>\n",
       "\t<li>CNN</li>\n",
       "\t<li>CNN</li>\n",
       "\t<li>BBC</li>\n",
       "\t<li>CNN</li>\n",
       "\t<li>BBC</li>\n",
       "\t<li>BBC</li>\n",
       "\t<li>BBC</li>\n",
       "\t<li>CNN</li>\n",
       "\t<li>CNN</li>\n",
       "\t<li>BBC</li>\n",
       "\t<li>BBC</li>\n",
       "\t<li>CNN</li>\n",
       "\t<li>CNN</li>\n",
       "\t<li>CNN</li>\n",
       "\t<li>BBC</li>\n",
       "\t<li>BBC</li>\n",
       "\t<li>BBC</li>\n",
       "\t<li>CNN</li>\n",
       "\t<li>BBC</li>\n",
       "\t<li>BBC</li>\n",
       "</ol>\n"
      ],
      "text/latex": [
       "\\begin{enumerate*}\n",
       "\\item BBC\n",
       "\\item BBC\n",
       "\\item CNN\n",
       "\\item BBC\n",
       "\\item CNN\n",
       "\\item BBC\n",
       "\\item BBC\n",
       "\\item CNN\n",
       "\\item CNN\n",
       "\\item CNN\n",
       "\\item BBC\n",
       "\\item CNN\n",
       "\\item CNN\n",
       "\\item CNN\n",
       "\\item BBC\n",
       "\\item BBC\n",
       "\\item CNN\n",
       "\\item BBC\n",
       "\\item BBC\n",
       "\\item BBC\n",
       "\\item BBC\n",
       "\\item BBC\n",
       "\\item BBC\n",
       "\\item CNN\n",
       "\\item CNN\n",
       "\\item CNN\n",
       "\\item CNN\n",
       "\\item BBC\n",
       "\\item CNN\n",
       "\\item BBC\n",
       "\\item BBC\n",
       "\\item BBC\n",
       "\\item CNN\n",
       "\\item CNN\n",
       "\\item BBC\n",
       "\\item BBC\n",
       "\\item CNN\n",
       "\\item CNN\n",
       "\\item CNN\n",
       "\\item BBC\n",
       "\\item BBC\n",
       "\\item BBC\n",
       "\\item CNN\n",
       "\\item BBC\n",
       "\\item BBC\n",
       "\\end{enumerate*}\n"
      ],
      "text/markdown": [
       "1. BBC\n",
       "2. BBC\n",
       "3. CNN\n",
       "4. BBC\n",
       "5. CNN\n",
       "6. BBC\n",
       "7. BBC\n",
       "8. CNN\n",
       "9. CNN\n",
       "10. CNN\n",
       "11. BBC\n",
       "12. CNN\n",
       "13. CNN\n",
       "14. CNN\n",
       "15. BBC\n",
       "16. BBC\n",
       "17. CNN\n",
       "18. BBC\n",
       "19. BBC\n",
       "20. BBC\n",
       "21. BBC\n",
       "22. BBC\n",
       "23. BBC\n",
       "24. CNN\n",
       "25. CNN\n",
       "26. CNN\n",
       "27. CNN\n",
       "28. BBC\n",
       "29. CNN\n",
       "30. BBC\n",
       "31. BBC\n",
       "32. BBC\n",
       "33. CNN\n",
       "34. CNN\n",
       "35. BBC\n",
       "36. BBC\n",
       "37. CNN\n",
       "38. CNN\n",
       "39. CNN\n",
       "40. BBC\n",
       "41. BBC\n",
       "42. BBC\n",
       "43. CNN\n",
       "44. BBC\n",
       "45. BBC\n",
       "\n",
       "\n"
      ],
      "text/plain": [
       " [1] BBC BBC CNN BBC CNN BBC BBC CNN CNN CNN BBC CNN CNN CNN BBC BBC CNN BBC BBC\n",
       "[20] BBC BBC BBC BBC CNN CNN CNN CNN BBC CNN BBC BBC BBC CNN CNN BBC BBC CNN CNN\n",
       "[39] CNN BBC BBC BBC CNN BBC BBC\n",
       "Levels: BBC CNN"
      ]
     },
     "metadata": {},
     "output_type": "display_data"
    }
   ],
   "source": [
    "levels(data$website) \n",
    "factor(data$website)"
   ]
  },
  {
   "cell_type": "code",
   "execution_count": 31,
   "metadata": {
    "collapsed": true
   },
   "outputs": [],
   "source": [
    "library(\"hcitools\")\n",
    "news_score<-function(d){\n",
    "    res <- NULL\n",
    "    for (news_firm in levels(d$website)){ \n",
    "        for (gender in levels(d$gender))){\n",
    "            \n",
    "            subset<-d[d$website==news_firm&d$gender==gender,1:10]\n",
    "            result=questionnaire.analyse(subset, name=\"SUS\")\n",
    "            res <- rbind(res,c(news_firm,gender,result))\n",
    "        }\n",
    "    }\n",
    "    colnames(res) <- c(\"Website\",\"Gender\",\"Sus_score\")\n",
    "    res<-data.frame(res)\n",
    "    return(res)\n",
    "}"
   ]
  },
  {
   "cell_type": "code",
   "execution_count": 32,
   "metadata": {},
   "outputs": [
    {
     "data": {
      "text/html": [
       "<table>\n",
       "<thead><tr><th scope=col>Website</th><th scope=col>Gender</th><th scope=col>Sus_score</th></tr></thead>\n",
       "<tbody>\n",
       "\t<tr><td>BBC             </td><td>female          </td><td>47.5            </td></tr>\n",
       "\t<tr><td>BBC             </td><td>male            </td><td>47.1666666666667</td></tr>\n",
       "\t<tr><td>CNN             </td><td>female          </td><td>50.5555555555556</td></tr>\n",
       "\t<tr><td>CNN             </td><td>male            </td><td>47.2727272727273</td></tr>\n",
       "</tbody>\n",
       "</table>\n"
      ],
      "text/latex": [
       "\\begin{tabular}{r|lll}\n",
       " Website & Gender & Sus\\_score\\\\\n",
       "\\hline\n",
       "\t BBC              & female           & 47.5            \\\\\n",
       "\t BBC              & male             & 47.1666666666667\\\\\n",
       "\t CNN              & female           & 50.5555555555556\\\\\n",
       "\t CNN              & male             & 47.2727272727273\\\\\n",
       "\\end{tabular}\n"
      ],
      "text/markdown": [
       "\n",
       "Website | Gender | Sus_score | \n",
       "|---|---|---|---|\n",
       "| BBC              | female           | 47.5             | \n",
       "| BBC              | male             | 47.1666666666667 | \n",
       "| CNN              | female           | 50.5555555555556 | \n",
       "| CNN              | male             | 47.2727272727273 | \n",
       "\n",
       "\n"
      ],
      "text/plain": [
       "  Website Gender Sus_score       \n",
       "1 BBC     female 47.5            \n",
       "2 BBC     male   47.1666666666667\n",
       "3 CNN     female 50.5555555555556\n",
       "4 CNN     male   47.2727272727273"
      ]
     },
     "metadata": {},
     "output_type": "display_data"
    }
   ],
   "source": [
    "news_score(data)"
   ]
  },
  {
   "cell_type": "code",
   "execution_count": null,
   "metadata": {
    "collapsed": true
   },
   "outputs": [],
   "source": []
  }
 ],
 "metadata": {
  "kernelspec": {
   "display_name": "R",
   "language": "R",
   "name": "ir"
  },
  "language_info": {
   "codemirror_mode": "r",
   "file_extension": ".r",
   "mimetype": "text/x-r-source",
   "name": "R",
   "pygments_lexer": "r",
   "version": "3.4.1"
  }
 },
 "nbformat": 4,
 "nbformat_minor": 2
}
